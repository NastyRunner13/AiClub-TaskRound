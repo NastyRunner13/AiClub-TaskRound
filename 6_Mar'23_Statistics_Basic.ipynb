{
  "nbformat": 4,
  "nbformat_minor": 0,
  "metadata": {
    "colab": {
      "provenance": [],
      "authorship_tag": "ABX9TyMncbJYcHqkzJ4oheh5X7jW",
      "include_colab_link": true
    },
    "kernelspec": {
      "name": "python3",
      "display_name": "Python 3"
    },
    "language_info": {
      "name": "python"
    }
  },
  "cells": [
    {
      "cell_type": "markdown",
      "metadata": {
        "id": "view-in-github",
        "colab_type": "text"
      },
      "source": [
        "<a href=\"https://colab.research.google.com/github/NastyRunner13/AiClub-TaskRound/blob/main/6_Mar'23_Statistics_Basic.ipynb\" target=\"_parent\"><img src=\"https://colab.research.google.com/assets/colab-badge.svg\" alt=\"Open In Colab\"/></a>"
      ]
    },
    {
      "cell_type": "markdown",
      "source": [
        "# Q1. What is Statistics?\n",
        "Ans. Statistics is the science of collecting, organizing and collecting the data."
      ],
      "metadata": {
        "id": "byf8yHZLJD3N"
      }
    },
    {
      "cell_type": "markdown",
      "source": [
        "# Q2. Define the different types of statistics and give an example of when each type might be used.\n",
        "Ans. "
      ],
      "metadata": {
        "id": "Glx3AC7bJqQF"
      }
    }
  ]
}